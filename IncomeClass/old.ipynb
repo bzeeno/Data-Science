{
 "cells": [
  {
   "cell_type": "markdown",
   "metadata": {},
   "source": [
    "### Make Inputs Appropriate Data Types"
   ]
  },
  {
   "cell_type": "code",
   "execution_count": null,
   "metadata": {},
   "outputs": [],
   "source": [
    "# Seperate categorical and numerical columns (train)\n",
    "train_val_categorical_inputs = train_validation_inputs[:,5:].astype(np.int)\n",
    "train_val_numerical_inputs = train_validation_inputs[:,:5].astype(np.float)\n",
    "# Seperate categorical and numerical columns (test)\n",
    "test_categorical_inputs = test_inputs[:,5:].astype(np.int)\n",
    "test_numerical_inputs = test_inputs[:,:5].astype(np.float)\n",
    "\n",
    "# Print Shapes\n",
    "print(\"Train/Validate Categorical Shape:\" ,train_val_categorical_inputs.shape)\n",
    "print(\"Train/Validate Numerical Shape:\" ,train_val_numerical_inputs.shape)\n",
    "\n",
    "print(\"Test Categorical Shape:\" ,test_categorical_inputs.shape)\n",
    "print(\"Test Numerical Shape:\" ,test_numerical_inputs.shape)"
   ]
  },
  {
   "cell_type": "code",
   "execution_count": null,
   "metadata": {},
   "outputs": [],
   "source": [
    "# Cast categorical data to ints\n",
    "def ConvertCategorical(numerical_inputs, categorical_inputs):\n",
    "    concat_data = [] # array to hold new data\n",
    "    row_count = categorical_inputs.shape[0]\n",
    "    col_count = categorical_inputs.shape[1]\n",
    "    \n",
    "    for i in range(row_count):\n",
    "        row = np.concatenate((numerical_inputs[i], categorical_inputs[i]), axis=None)\n",
    "        row = np.array(row)\n",
    "        concat_data.append(row)\n",
    "    return concat_data"
   ]
  },
  {
   "cell_type": "code",
   "execution_count": null,
   "metadata": {},
   "outputs": [],
   "source": [
    "def create_neural_network():\n",
    "    network = tf.keras.models.Sequential() # Begin Neural Network\n",
    "#     network.add(tf.keras.layers.Flatten())\n",
    "    network.add(tf.keras.layers.Dense(INPUT_SIZE, activation=\"sigmoid\"))\n",
    "    network.add(tf.keras.layers.Dense(HIDDEN_LAYER_SIZE, activation=\"tanh\"))\n",
    "    network.add(tf.keras.layers.Dense(HIDDEN_LAYER_SIZE, activation=\"relu\"))\n",
    "    network.add(tf.keras.layers.Dense(OUTPUT_SIZE, activation=\"softmax\"))\n",
    "    network.compile(optimizer=\"adam\", loss=\"binary_crossentropy\", metrics=[\"accuracy\"])\n",
    "    return network"
   ]
  },
  {
   "cell_type": "code",
   "execution_count": null,
   "metadata": {},
   "outputs": [],
   "source": [
    "def create_neural_network():\n",
    "    network = tf.keras.models.Sequential() # Begin Neural Network\n",
    "#     network.add(tf.keras.layers.Flatten())\n",
    "    network.add(tf.keras.layers.Dense(INPUT_SIZE, activation=\"sigmoid\"))\n",
    "    network.add(tf.keras.layers.Dense(HIDDEN_LAYER_SIZE, activation=\"tanh\"))\n",
    "    network.add(tf.keras.layers.Dense(HIDDEN_LAYER_SIZE, activation=\"relu\"))\n",
    "    network.add(tf.keras.layers.Dense(OUTPUT_SIZE, activation=\"softmax\"))\n",
    "    network.compile(optimizer=\"adam\", loss=\"binary_crossentropy\", metrics=[\"accuracy\"])\n",
    "    return network"
   ]
  },
  {
   "cell_type": "code",
   "execution_count": null,
   "metadata": {},
   "outputs": [],
   "source": [
    "# Using k-fold cross validation to test and tune model\n",
    "FOLDS = 10 # Number of folds for k-fold cv\n",
    "cross_val_score(NeuralNetwork, train_val_categorical_inputs, train_validation_targets, cv=FOLDS, scoring=scorer ,verbose=2)"
   ]
  },
  {
   "cell_type": "code",
   "execution_count": null,
   "metadata": {},
   "outputs": [],
   "source": [
    "NeuralNetwork.fit(train_validation_inputs,train_validation_targets) # Fit model to our training/validation data"
   ]
  },
  {
   "cell_type": "code",
   "execution_count": null,
   "metadata": {},
   "outputs": [],
   "source": [
    "# Testing accuracy of model\n",
    "NeuralNetwork.score(test_inputs, test_targets)"
   ]
  },
  {
   "cell_type": "code",
   "execution_count": null,
   "metadata": {},
   "outputs": [],
   "source": []
  }
 ],
 "metadata": {
  "kernelspec": {
   "display_name": "Python 3",
   "language": "python",
   "name": "python3"
  },
  "language_info": {
   "codemirror_mode": {
    "name": "ipython",
    "version": 3
   },
   "file_extension": ".py",
   "mimetype": "text/x-python",
   "name": "python",
   "nbconvert_exporter": "python",
   "pygments_lexer": "ipython3",
   "version": "3.6.9"
  }
 },
 "nbformat": 4,
 "nbformat_minor": 4
}
