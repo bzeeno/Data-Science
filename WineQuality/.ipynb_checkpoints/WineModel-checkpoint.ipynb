{
 "cells": [
  {
   "cell_type": "code",
   "execution_count": 12,
   "metadata": {},
   "outputs": [],
   "source": [
    "import numpy as np\n",
    "import pandas as pd\n",
    "\n",
    "from sklearn.model_selection import train_test_split\n",
    "\n",
    "from collections import Counter\n",
    "\n",
    "from sklearn.model_selection import GridSearchCV\n",
    "\n",
    "from sklearn.tree import DecisionTreeClassifier\n",
    "from sklearn.ensemble import AdaBoostClassifier\n",
    "from sklearn.ensemble import RandomForestClassifier\n",
    "\n",
    "from sklearn.metrics import make_scorer\n",
    "from sklearn.metrics import accuracy_score\n",
    "from sklearn.metrics import f1_score"
   ]
  },
  {
   "cell_type": "markdown",
   "metadata": {},
   "source": [
    "# Read-in data"
   ]
  },
  {
   "cell_type": "code",
   "execution_count": 4,
   "metadata": {},
   "outputs": [
    {
     "data": {
      "text/html": [
       "<div>\n",
       "<style scoped>\n",
       "    .dataframe tbody tr th:only-of-type {\n",
       "        vertical-align: middle;\n",
       "    }\n",
       "\n",
       "    .dataframe tbody tr th {\n",
       "        vertical-align: top;\n",
       "    }\n",
       "\n",
       "    .dataframe thead th {\n",
       "        text-align: right;\n",
       "    }\n",
       "</style>\n",
       "<table border=\"1\" class=\"dataframe\">\n",
       "  <thead>\n",
       "    <tr style=\"text-align: right;\">\n",
       "      <th></th>\n",
       "      <th>fixed acidity</th>\n",
       "      <th>volatile acidity</th>\n",
       "      <th>citric acid</th>\n",
       "      <th>residual sugar</th>\n",
       "      <th>chlorides</th>\n",
       "      <th>free sulfur dioxide</th>\n",
       "      <th>total sulfur dioxide</th>\n",
       "      <th>density</th>\n",
       "      <th>pH</th>\n",
       "      <th>sulphates</th>\n",
       "      <th>alcohol</th>\n",
       "      <th>targets</th>\n",
       "    </tr>\n",
       "  </thead>\n",
       "  <tbody>\n",
       "    <tr>\n",
       "      <th>0</th>\n",
       "      <td>-0.523281</td>\n",
       "      <td>1.074692</td>\n",
       "      <td>-1.376063</td>\n",
       "      <td>-0.645049</td>\n",
       "      <td>-0.172968</td>\n",
       "      <td>-0.450943</td>\n",
       "      <td>-0.308410</td>\n",
       "      <td>0.766555</td>\n",
       "      <td>1.408289</td>\n",
       "      <td>-0.621063</td>\n",
       "      <td>-0.990272</td>\n",
       "      <td>1</td>\n",
       "    </tr>\n",
       "    <tr>\n",
       "      <th>1</th>\n",
       "      <td>-0.249565</td>\n",
       "      <td>2.166691</td>\n",
       "      <td>-1.376063</td>\n",
       "      <td>0.938581</td>\n",
       "      <td>1.364655</td>\n",
       "      <td>1.148185</td>\n",
       "      <td>0.966059</td>\n",
       "      <td>0.142986</td>\n",
       "      <td>-0.942364</td>\n",
       "      <td>0.410431</td>\n",
       "      <td>-0.580112</td>\n",
       "      <td>1</td>\n",
       "    </tr>\n",
       "    <tr>\n",
       "      <th>2</th>\n",
       "      <td>-0.249565</td>\n",
       "      <td>1.438691</td>\n",
       "      <td>-1.154012</td>\n",
       "      <td>0.259883</td>\n",
       "      <td>0.945303</td>\n",
       "      <td>0.005951</td>\n",
       "      <td>0.463995</td>\n",
       "      <td>0.267700</td>\n",
       "      <td>-0.487399</td>\n",
       "      <td>0.152557</td>\n",
       "      <td>-0.580112</td>\n",
       "      <td>1</td>\n",
       "    </tr>\n",
       "    <tr>\n",
       "      <th>3</th>\n",
       "      <td>2.077023</td>\n",
       "      <td>-1.473307</td>\n",
       "      <td>1.732651</td>\n",
       "      <td>-0.645049</td>\n",
       "      <td>-0.242860</td>\n",
       "      <td>0.234398</td>\n",
       "      <td>0.695717</td>\n",
       "      <td>0.891269</td>\n",
       "      <td>-1.245674</td>\n",
       "      <td>-0.449148</td>\n",
       "      <td>-0.580112</td>\n",
       "      <td>1</td>\n",
       "    </tr>\n",
       "    <tr>\n",
       "      <th>4</th>\n",
       "      <td>-0.523281</td>\n",
       "      <td>1.074692</td>\n",
       "      <td>-1.376063</td>\n",
       "      <td>-0.645049</td>\n",
       "      <td>-0.172968</td>\n",
       "      <td>-0.450943</td>\n",
       "      <td>-0.308410</td>\n",
       "      <td>0.766555</td>\n",
       "      <td>1.408289</td>\n",
       "      <td>-0.621063</td>\n",
       "      <td>-0.990272</td>\n",
       "      <td>1</td>\n",
       "    </tr>\n",
       "  </tbody>\n",
       "</table>\n",
       "</div>"
      ],
      "text/plain": [
       "   fixed acidity  volatile acidity  citric acid  residual sugar  chlorides  \\\n",
       "0      -0.523281          1.074692    -1.376063       -0.645049  -0.172968   \n",
       "1      -0.249565          2.166691    -1.376063        0.938581   1.364655   \n",
       "2      -0.249565          1.438691    -1.154012        0.259883   0.945303   \n",
       "3       2.077023         -1.473307     1.732651       -0.645049  -0.242860   \n",
       "4      -0.523281          1.074692    -1.376063       -0.645049  -0.172968   \n",
       "\n",
       "   free sulfur dioxide  total sulfur dioxide   density        pH  sulphates  \\\n",
       "0            -0.450943             -0.308410  0.766555  1.408289  -0.621063   \n",
       "1             1.148185              0.966059  0.142986 -0.942364   0.410431   \n",
       "2             0.005951              0.463995  0.267700 -0.487399   0.152557   \n",
       "3             0.234398              0.695717  0.891269 -1.245674  -0.449148   \n",
       "4            -0.450943             -0.308410  0.766555  1.408289  -0.621063   \n",
       "\n",
       "    alcohol  targets  \n",
       "0 -0.990272        1  \n",
       "1 -0.580112        1  \n",
       "2 -0.580112        1  \n",
       "3 -0.580112        1  \n",
       "4 -0.990272        1  "
      ]
     },
     "execution_count": 4,
     "metadata": {},
     "output_type": "execute_result"
    }
   ],
   "source": [
    "data_path = \"data/\"\n",
    "raw_df = pd.read_csv(data_path + \"PreprocessedData.csv\")\n",
    "raw_df.head()"
   ]
  },
  {
   "cell_type": "code",
   "execution_count": 5,
   "metadata": {},
   "outputs": [],
   "source": [
    "df = raw_df.copy()"
   ]
  },
  {
   "cell_type": "markdown",
   "metadata": {},
   "source": [
    "# Split Data"
   ]
  },
  {
   "cell_type": "code",
   "execution_count": 6,
   "metadata": {},
   "outputs": [
    {
     "data": {
      "text/html": [
       "<div>\n",
       "<style scoped>\n",
       "    .dataframe tbody tr th:only-of-type {\n",
       "        vertical-align: middle;\n",
       "    }\n",
       "\n",
       "    .dataframe tbody tr th {\n",
       "        vertical-align: top;\n",
       "    }\n",
       "\n",
       "    .dataframe thead th {\n",
       "        text-align: right;\n",
       "    }\n",
       "</style>\n",
       "<table border=\"1\" class=\"dataframe\">\n",
       "  <thead>\n",
       "    <tr style=\"text-align: right;\">\n",
       "      <th></th>\n",
       "      <th>fixed acidity</th>\n",
       "      <th>volatile acidity</th>\n",
       "      <th>citric acid</th>\n",
       "      <th>residual sugar</th>\n",
       "      <th>chlorides</th>\n",
       "      <th>free sulfur dioxide</th>\n",
       "      <th>total sulfur dioxide</th>\n",
       "      <th>density</th>\n",
       "      <th>pH</th>\n",
       "      <th>sulphates</th>\n",
       "      <th>alcohol</th>\n",
       "    </tr>\n",
       "  </thead>\n",
       "  <tbody>\n",
       "    <tr>\n",
       "      <th>0</th>\n",
       "      <td>-0.523281</td>\n",
       "      <td>1.074692</td>\n",
       "      <td>-1.376063</td>\n",
       "      <td>-0.645049</td>\n",
       "      <td>-0.172968</td>\n",
       "      <td>-0.450943</td>\n",
       "      <td>-0.308410</td>\n",
       "      <td>0.766555</td>\n",
       "      <td>1.408289</td>\n",
       "      <td>-0.621063</td>\n",
       "      <td>-0.990272</td>\n",
       "    </tr>\n",
       "    <tr>\n",
       "      <th>1</th>\n",
       "      <td>-0.249565</td>\n",
       "      <td>2.166691</td>\n",
       "      <td>-1.376063</td>\n",
       "      <td>0.938581</td>\n",
       "      <td>1.364655</td>\n",
       "      <td>1.148185</td>\n",
       "      <td>0.966059</td>\n",
       "      <td>0.142986</td>\n",
       "      <td>-0.942364</td>\n",
       "      <td>0.410431</td>\n",
       "      <td>-0.580112</td>\n",
       "    </tr>\n",
       "    <tr>\n",
       "      <th>2</th>\n",
       "      <td>-0.249565</td>\n",
       "      <td>1.438691</td>\n",
       "      <td>-1.154012</td>\n",
       "      <td>0.259883</td>\n",
       "      <td>0.945303</td>\n",
       "      <td>0.005951</td>\n",
       "      <td>0.463995</td>\n",
       "      <td>0.267700</td>\n",
       "      <td>-0.487399</td>\n",
       "      <td>0.152557</td>\n",
       "      <td>-0.580112</td>\n",
       "    </tr>\n",
       "    <tr>\n",
       "      <th>3</th>\n",
       "      <td>2.077023</td>\n",
       "      <td>-1.473307</td>\n",
       "      <td>1.732651</td>\n",
       "      <td>-0.645049</td>\n",
       "      <td>-0.242860</td>\n",
       "      <td>0.234398</td>\n",
       "      <td>0.695717</td>\n",
       "      <td>0.891269</td>\n",
       "      <td>-1.245674</td>\n",
       "      <td>-0.449148</td>\n",
       "      <td>-0.580112</td>\n",
       "    </tr>\n",
       "    <tr>\n",
       "      <th>4</th>\n",
       "      <td>-0.523281</td>\n",
       "      <td>1.074692</td>\n",
       "      <td>-1.376063</td>\n",
       "      <td>-0.645049</td>\n",
       "      <td>-0.172968</td>\n",
       "      <td>-0.450943</td>\n",
       "      <td>-0.308410</td>\n",
       "      <td>0.766555</td>\n",
       "      <td>1.408289</td>\n",
       "      <td>-0.621063</td>\n",
       "      <td>-0.990272</td>\n",
       "    </tr>\n",
       "    <tr>\n",
       "      <th>...</th>\n",
       "      <td>...</td>\n",
       "      <td>...</td>\n",
       "      <td>...</td>\n",
       "      <td>...</td>\n",
       "      <td>...</td>\n",
       "      <td>...</td>\n",
       "      <td>...</td>\n",
       "      <td>...</td>\n",
       "      <td>...</td>\n",
       "      <td>...</td>\n",
       "      <td>...</td>\n",
       "    </tr>\n",
       "    <tr>\n",
       "      <th>1185</th>\n",
       "      <td>-1.344430</td>\n",
       "      <td>0.468025</td>\n",
       "      <td>-0.931961</td>\n",
       "      <td>-0.418816</td>\n",
       "      <td>0.805519</td>\n",
       "      <td>1.947749</td>\n",
       "      <td>0.077792</td>\n",
       "      <td>-1.041795</td>\n",
       "      <td>0.953324</td>\n",
       "      <td>-0.449148</td>\n",
       "      <td>0.137668</td>\n",
       "    </tr>\n",
       "    <tr>\n",
       "      <th>1186</th>\n",
       "      <td>-1.549717</td>\n",
       "      <td>0.164692</td>\n",
       "      <td>-0.820936</td>\n",
       "      <td>0.033650</td>\n",
       "      <td>-1.151455</td>\n",
       "      <td>2.747313</td>\n",
       "      <td>0.348134</td>\n",
       "      <td>-0.904610</td>\n",
       "      <td>1.484117</td>\n",
       "      <td>1.098093</td>\n",
       "      <td>0.855447</td>\n",
       "    </tr>\n",
       "    <tr>\n",
       "      <th>1187</th>\n",
       "      <td>-1.276001</td>\n",
       "      <td>-0.077974</td>\n",
       "      <td>-0.654398</td>\n",
       "      <td>0.259883</td>\n",
       "      <td>-0.172968</td>\n",
       "      <td>1.605079</td>\n",
       "      <td>-0.076689</td>\n",
       "      <td>-0.517997</td>\n",
       "      <td>0.725841</td>\n",
       "      <td>1.012136</td>\n",
       "      <td>0.650368</td>\n",
       "    </tr>\n",
       "    <tr>\n",
       "      <th>1188</th>\n",
       "      <td>-1.549717</td>\n",
       "      <td>0.741025</td>\n",
       "      <td>-0.709910</td>\n",
       "      <td>-0.418816</td>\n",
       "      <td>-0.242860</td>\n",
       "      <td>1.947749</td>\n",
       "      <td>0.077792</td>\n",
       "      <td>-0.686361</td>\n",
       "      <td>1.863254</td>\n",
       "      <td>0.668304</td>\n",
       "      <td>-0.169952</td>\n",
       "    </tr>\n",
       "    <tr>\n",
       "      <th>1189</th>\n",
       "      <td>-1.481288</td>\n",
       "      <td>-1.291307</td>\n",
       "      <td>1.233036</td>\n",
       "      <td>3.200910</td>\n",
       "      <td>-0.801995</td>\n",
       "      <td>0.348621</td>\n",
       "      <td>0.000552</td>\n",
       "      <td>-0.673890</td>\n",
       "      <td>0.498359</td>\n",
       "      <td>0.238515</td>\n",
       "      <td>0.650368</td>\n",
       "    </tr>\n",
       "  </tbody>\n",
       "</table>\n",
       "<p>1190 rows × 11 columns</p>\n",
       "</div>"
      ],
      "text/plain": [
       "      fixed acidity  volatile acidity  citric acid  residual sugar  chlorides  \\\n",
       "0         -0.523281          1.074692    -1.376063       -0.645049  -0.172968   \n",
       "1         -0.249565          2.166691    -1.376063        0.938581   1.364655   \n",
       "2         -0.249565          1.438691    -1.154012        0.259883   0.945303   \n",
       "3          2.077023         -1.473307     1.732651       -0.645049  -0.242860   \n",
       "4         -0.523281          1.074692    -1.376063       -0.645049  -0.172968   \n",
       "...             ...               ...          ...             ...        ...   \n",
       "1185      -1.344430          0.468025    -0.931961       -0.418816   0.805519   \n",
       "1186      -1.549717          0.164692    -0.820936        0.033650  -1.151455   \n",
       "1187      -1.276001         -0.077974    -0.654398        0.259883  -0.172968   \n",
       "1188      -1.549717          0.741025    -0.709910       -0.418816  -0.242860   \n",
       "1189      -1.481288         -1.291307     1.233036        3.200910  -0.801995   \n",
       "\n",
       "      free sulfur dioxide  total sulfur dioxide   density        pH  \\\n",
       "0               -0.450943             -0.308410  0.766555  1.408289   \n",
       "1                1.148185              0.966059  0.142986 -0.942364   \n",
       "2                0.005951              0.463995  0.267700 -0.487399   \n",
       "3                0.234398              0.695717  0.891269 -1.245674   \n",
       "4               -0.450943             -0.308410  0.766555  1.408289   \n",
       "...                   ...                   ...       ...       ...   \n",
       "1185             1.947749              0.077792 -1.041795  0.953324   \n",
       "1186             2.747313              0.348134 -0.904610  1.484117   \n",
       "1187             1.605079             -0.076689 -0.517997  0.725841   \n",
       "1188             1.947749              0.077792 -0.686361  1.863254   \n",
       "1189             0.348621              0.000552 -0.673890  0.498359   \n",
       "\n",
       "      sulphates   alcohol  \n",
       "0     -0.621063 -0.990272  \n",
       "1      0.410431 -0.580112  \n",
       "2      0.152557 -0.580112  \n",
       "3     -0.449148 -0.580112  \n",
       "4     -0.621063 -0.990272  \n",
       "...         ...       ...  \n",
       "1185  -0.449148  0.137668  \n",
       "1186   1.098093  0.855447  \n",
       "1187   1.012136  0.650368  \n",
       "1188   0.668304 -0.169952  \n",
       "1189   0.238515  0.650368  \n",
       "\n",
       "[1190 rows x 11 columns]"
      ]
     },
     "execution_count": 6,
     "metadata": {},
     "output_type": "execute_result"
    }
   ],
   "source": [
    "# Isolate features\n",
    "features = df.iloc[:,:-1]\n",
    "features"
   ]
  },
  {
   "cell_type": "code",
   "execution_count": 7,
   "metadata": {},
   "outputs": [
    {
     "data": {
      "text/plain": [
       "0       1\n",
       "1       1\n",
       "2       1\n",
       "3       1\n",
       "4       1\n",
       "       ..\n",
       "1185    1\n",
       "1186    1\n",
       "1187    1\n",
       "1188    1\n",
       "1189    1\n",
       "Name: targets, Length: 1190, dtype: int64"
      ]
     },
     "execution_count": 7,
     "metadata": {},
     "output_type": "execute_result"
    }
   ],
   "source": [
    "# Isolate Targets\n",
    "targets = df[\"targets\"]\n",
    "targets"
   ]
  },
  {
   "cell_type": "code",
   "execution_count": 10,
   "metadata": {},
   "outputs": [],
   "source": [
    "# Split Data\n",
    "features_train, features_test, targets_train, targets_test = train_test_split(features, targets, test_size=0.2, random_state=42)"
   ]
  },
  {
   "cell_type": "code",
   "execution_count": 13,
   "metadata": {},
   "outputs": [
    {
     "name": "stdout",
     "output_type": "stream",
     "text": [
      "Train samples: 952\n",
      "Below Average Wines: 31\n",
      "Average Wines: 798\n",
      "Above Average Wines: 123\n",
      "\n",
      "-------------------------------\n",
      "\n",
      "Test samples: 238\n",
      "Below Average Wines: 5\n",
      "Average Wines: 210\n",
      "Above Average Wines: 23\n"
     ]
    }
   ],
   "source": [
    "# Look at how many samples are in train and test datasets. \n",
    "train_counter = Counter(targets_train)\n",
    "test_counter = Counter(targets_test)\n",
    "\n",
    "print(\"Train samples:\",features_train.shape[0])\n",
    "print(\"Below Average Wines:\", train_counter[0])\n",
    "print(\"Average Wines:\", train_counter[1])\n",
    "print(\"Above Average Wines:\", train_counter[2])\n",
    "print(\"\\n-------------------------------\\n\")\n",
    "print(\"Test samples:\",features_test.shape[0])\n",
    "print(\"Below Average Wines:\", test_counter[0])\n",
    "print(\"Average Wines:\", test_counter[1])\n",
    "print(\"Above Average Wines:\", test_counter[2])"
   ]
  },
  {
   "cell_type": "markdown",
   "metadata": {},
   "source": [
    "# Machine Learning"
   ]
  },
  {
   "cell_type": "code",
   "execution_count": null,
   "metadata": {},
   "outputs": [],
   "source": [
    "hyper_parameters = {\"n_estimators\": [2,50,100,150],\n",
    "                    \"base_estimator\":[DecisionTreeClassifier(max_depth=2),DecisionTreeClassifier(max_depth=5)]\n",
    "                   }\n",
    "scorer = make_scorer(f1_score, average=\"micro\") # micro calculates metrics globally (not an average like macro)\n",
    "grid = GridSearchCV(AdaBoostClassifier(random_state=42), param_grid=hyper_parameters, scoring=scorer)\n",
    "fit_grid = grid.fit(features_train,targets_train)\n",
    "clf = fit_grid.best_estimator_\n",
    "\n",
    "print(\"Best Hyper-parameters: \\n\", grid.best_params_)\n",
    "print(\"\\n--------------------------------------------------------------------------------------------------\\n\")\n",
    "print(\"Model after hyper-parameter tuning: \\n\",grid.best_estimator_)"
   ]
  },
  {
   "cell_type": "code",
   "execution_count": null,
   "metadata": {},
   "outputs": [],
   "source": [
    "# Cross-Validate the best classifier\n",
    "scores_train = cross_val_score(clf, features, targets, cv=10, scoring=scorer)\n",
    "print(\"\\nf-scores: \",scores_train)\n",
    "print(\"\\nAverage f-score: \",scores_train.mean())"
   ]
  },
  {
   "cell_type": "markdown",
   "metadata": {},
   "source": [
    "We will still calculate accuracy, but it will not be the most useful metric because our data is unbalanced. The majority of our samples fall in the \"Average\"(5-6) class. So, we will rely on the f-score"
   ]
  },
  {
   "cell_type": "code",
   "execution_count": null,
   "metadata": {},
   "outputs": [],
   "source": [
    "# How well our model fits the training data\n",
    "train_predict = clf.predict(features_train)\n",
    "train_acc = accuracy_score(targets_train,train_predict)\n",
    "train_f_score = f1_score(targets_train, train_predict, average=\"micro\")\n",
    "print(\"Accuracy:\",np.round(train_acc,3))\n",
    "print(\"f-score:\",np.round(train_f_score,3))"
   ]
  },
  {
   "cell_type": "markdown",
   "metadata": {},
   "source": [
    "### Check Performance of Classifier"
   ]
  },
  {
   "cell_type": "code",
   "execution_count": null,
   "metadata": {},
   "outputs": [],
   "source": [
    "predict = clf.predict(features_test)\n",
    "acc = accuracy_score(targets_test,predict)\n",
    "f_score = f1_score(targets_test, predict, average=\"micro\")"
   ]
  },
  {
   "cell_type": "code",
   "execution_count": null,
   "metadata": {},
   "outputs": [],
   "source": [
    "print(\"Accuracy:\",np.round(acc,3))\n",
    "print(\"f-score:\",np.round(f_score,3))"
   ]
  },
  {
   "cell_type": "markdown",
   "metadata": {},
   "source": [
    "Note: When I refer to \"accuracy\" in the below text, I am talking about both the accuracy and the f-score. A more appropriate term might be \"performance\", but that is a bit ambiguous when siting the numbers."
   ]
  },
  {
   "cell_type": "markdown",
   "metadata": {},
   "source": [
    "I'm having trouble determining if I should use the hyperparameters that give the most accurate results (0.92) but with a large difference between the train and test accuracies (|0.999 - 0.92| = 0.079) OR if I should use the model with lower accuracy (0.845) but with the lower difference (|0.848 - 0.857| = 0.009).\n",
    "\n",
    "I can't figure out why the difference between the training accuracy and testing accuracy increases, while the testing accuracy is also increasing. It appears to be overfitting to the training data with an accuracy of 0.999, but the testing accuracy didn't decrease, it increased. This makes me wonder if it has something to do with how unbalanced the dataset is. Perhaps the abundance of \"Average\" wine is making the model look better than it actually is.\n",
    "\n",
    "I've decided to use the more accurate model until I can think of the reason as to why the difference grew larger, but the testing accuracy still increased."
   ]
  },
  {
   "cell_type": "markdown",
   "metadata": {},
   "source": [
    "## Check Which Features Are Most Important"
   ]
  },
  {
   "cell_type": "code",
   "execution_count": null,
   "metadata": {},
   "outputs": [],
   "source": [
    "importance_features = clf.feature_importances_\n",
    "print(importance_features)"
   ]
  },
  {
   "cell_type": "code",
   "execution_count": null,
   "metadata": {},
   "outputs": [],
   "source": [
    "column_names = data_no_outliers.columns.values[:-1]\n",
    "summary_df = pd.DataFrame(column_names,columns=[\"Features\"])\n",
    "summary_df[\"Importance\"] = importance_features\n",
    "summary_df = summary_df.sort_values(by=[\"Importance\"], ascending=False).reset_index(drop=True)\n",
    "summary_df"
   ]
  },
  {
   "cell_type": "code",
   "execution_count": null,
   "metadata": {},
   "outputs": [],
   "source": [
    "fig = plt.figure(figsize=(20,10))\n",
    "sns.barplot(x=\"Features\",y=\"Importance\", color=\"dodgerblue\" ,data=summary_df)"
   ]
  },
  {
   "cell_type": "markdown",
   "metadata": {},
   "source": [
    "Final thoughts:\n",
    "\n",
    "I'm skeptical about the fact that the accuracy and f-score returned the same exact number because there is much more \"average\" quality wine, so I would have expected the accuracy to be higher than the f-score. If I had the opportunity, I'd like to update this model with more data on the \"Below Average\" and \"Above Average\" wines. I am also skeptical about the problem regarding the test and training accuracies that I outlined above in the \"Check Performance of Classifier\" section. According to my model, the most important features are sulphates, volatile acidity, and alcohol content. This information could be used by wineries to make higher quality wine"
   ]
  }
 ],
 "metadata": {
  "kernelspec": {
   "display_name": "Python 3",
   "language": "python",
   "name": "python3"
  },
  "language_info": {
   "codemirror_mode": {
    "name": "ipython",
    "version": 3
   },
   "file_extension": ".py",
   "mimetype": "text/x-python",
   "name": "python",
   "nbconvert_exporter": "python",
   "pygments_lexer": "ipython3",
   "version": "3.6.9"
  }
 },
 "nbformat": 4,
 "nbformat_minor": 4
}
