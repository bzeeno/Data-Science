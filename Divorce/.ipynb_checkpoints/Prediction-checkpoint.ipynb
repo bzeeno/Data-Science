{
 "cells": [
  {
   "cell_type": "code",
   "execution_count": 139,
   "metadata": {},
   "outputs": [],
   "source": [
    "import numpy as np\n",
    "from sklearn.model_selection import KFold\n",
    "import tensorflow as tf\n",
    "from sklearn.model_selection import cross_val_score"
   ]
  },
  {
   "cell_type": "markdown",
   "metadata": {},
   "source": [
    "# Read-In Data"
   ]
  },
  {
   "cell_type": "code",
   "execution_count": 140,
   "metadata": {},
   "outputs": [],
   "source": [
    "data_path = \"data/\"\n",
    "npz = np.load(data_path+\"train_validation_data.npz\")\n",
    "train_validation_inputs = npz[\"inputs\"].astype(np.float)\n",
    "train_validation_targets = npz[\"targets\"].astype(np.int)\n",
    "\n",
    "npz = np.load(data_path+\"test_data.npz\")\n",
    "test_inputs = npz[\"inputs\"].astype(np.float)\n",
    "test_targets = npz[\"targets\"].astype(np.int)"
   ]
  },
  {
   "cell_type": "code",
   "execution_count": 141,
   "metadata": {},
   "outputs": [
    {
     "name": "stdout",
     "output_type": "stream",
     "text": [
      "Shape of train/validation inputs: (153, 54)\n",
      "Shape of train/validation targets: (153,)\n",
      "\n",
      "Shape of test inputs: (17, 54)\n",
      "Shape of test targets: (17,)\n"
     ]
    }
   ],
   "source": [
    "print(\"Shape of train/validation inputs:\",np.shape(train_validation_inputs))\n",
    "print(\"Shape of train/validation targets:\",np.shape(train_validation_targets))\n",
    "\n",
    "print(\"\")\n",
    "\n",
    "print(\"Shape of test inputs:\",np.shape(test_inputs))\n",
    "print(\"Shape of test targets:\",np.shape(test_targets))"
   ]
  },
  {
   "cell_type": "code",
   "execution_count": 142,
   "metadata": {},
   "outputs": [
    {
     "data": {
      "text/plain": [
       "(153,)"
      ]
     },
     "execution_count": 142,
     "metadata": {},
     "output_type": "execute_result"
    }
   ],
   "source": [
    "np.shape(train_validation_targets)"
   ]
  },
  {
   "cell_type": "markdown",
   "metadata": {},
   "source": [
    "# Create Neural Network"
   ]
  },
  {
   "cell_type": "code",
   "execution_count": 143,
   "metadata": {},
   "outputs": [],
   "source": [
    "INPUT_SIZE = 54\n",
    "OUTPUT_SIZE = 2\n",
    "HIDDEN_LAYER_SIZE = 250"
   ]
  },
  {
   "cell_type": "code",
   "execution_count": 145,
   "metadata": {},
   "outputs": [],
   "source": [
    "def create_neural_network():\n",
    "    network = tf.keras.models.Sequential() # Begin Neural Network\n",
    "    network.add(tf.keras.layers.Dense(HIDDEN_LAYER_SIZE, activation=\"sigmoid\"))\n",
    "    network.add(tf.keras.layers.Dense(HIDDEN_LAYER_SIZE, activation=\"tanh\"))\n",
    "    network.add(tf.keras.layers.Dense(HIDDEN_LAYER_SIZE, activation=\"relu\"))\n",
    "    network.add(tf.keras.layers.Dense(OUTPUT_SIZE, activation=\"softmax\"))\n",
    "    network.compile(optimizer=\"adam\", loss=\"sparse_categorical_crossentropy\", metrics=[\"accuracy\"])\n",
    "    return network"
   ]
  },
  {
   "cell_type": "code",
   "execution_count": 154,
   "metadata": {},
   "outputs": [],
   "source": [
    "MAX_EPOCHS = 10\n",
    "BATCH_SIZE = 10\n",
    "\n",
    "# Allow for validation accuracy to be lower than previous 2 times before stopping\n",
    "early_stopping = tf.keras.callbacks.EarlyStopping(patience=2) \n",
    "\n",
    "NeuralNetwork = tf.keras.wrappers.scikit_learn.KerasClassifier(build_fn=create_neural_network, \n",
    "                                                               epochs=MAX_EPOCHS,\n",
    "                                                               batch_size=BATCH_SIZE,\n",
    "                                                               verbose=2)"
   ]
  },
  {
   "cell_type": "code",
   "execution_count": 155,
   "metadata": {
    "scrolled": true
   },
   "outputs": [
    {
     "name": "stderr",
     "output_type": "stream",
     "text": [
      "[Parallel(n_jobs=1)]: Using backend SequentialBackend with 1 concurrent workers.\n"
     ]
    },
    {
     "name": "stdout",
     "output_type": "stream",
     "text": [
      "[CV]  ................................................................\n",
      "Train on 137 samples\n",
      "Epoch 1/10\n",
      "WARNING:tensorflow:Entity <function Function._initialize_uninitialized_variables.<locals>.initialize_variables at 0x7f59914b4048> could not be transformed and will be executed as-is. Please report this to the AutoGraph team. When filing the bug, set the verbosity to 10 (on Linux, `export AUTOGRAPH_VERBOSITY=10`) and attach the full output. Cause: module 'gast' has no attribute 'Num'\n",
      "WARNING: Entity <function Function._initialize_uninitialized_variables.<locals>.initialize_variables at 0x7f59914b4048> could not be transformed and will be executed as-is. Please report this to the AutoGraph team. When filing the bug, set the verbosity to 10 (on Linux, `export AUTOGRAPH_VERBOSITY=10`) and attach the full output. Cause: module 'gast' has no attribute 'Num'\n",
      "137/137 - 0s - loss: 0.2756 - accuracy: 0.8832\n",
      "Epoch 2/10\n",
      "137/137 - 0s - loss: 0.0520 - accuracy: 0.9854\n",
      "Epoch 3/10\n",
      "137/137 - 0s - loss: 0.0131 - accuracy: 1.0000\n",
      "Epoch 4/10\n",
      "137/137 - 0s - loss: 0.0115 - accuracy: 1.0000\n",
      "Epoch 5/10\n",
      "137/137 - 0s - loss: 0.0075 - accuracy: 1.0000\n",
      "Epoch 6/10\n",
      "137/137 - 0s - loss: 0.0055 - accuracy: 1.0000\n",
      "Epoch 7/10\n",
      "137/137 - 0s - loss: 0.0025 - accuracy: 1.0000\n",
      "Epoch 8/10\n",
      "137/137 - 0s - loss: 0.0028 - accuracy: 1.0000\n",
      "Epoch 9/10\n",
      "137/137 - 0s - loss: 0.0014 - accuracy: 1.0000\n",
      "Epoch 10/10\n",
      "137/137 - 0s - loss: 7.2891e-04 - accuracy: 1.0000\n",
      "16/1 - 0s - loss: 0.0271 - accuracy: 0.9375\n",
      "[CV] ................................................. , total=   1.9s\n",
      "[CV]  ................................................................\n",
      "Train on 137 samples\n",
      "Epoch 1/10\n"
     ]
    },
    {
     "name": "stderr",
     "output_type": "stream",
     "text": [
      "[Parallel(n_jobs=1)]: Done   1 out of   1 | elapsed:    1.9s remaining:    0.0s\n"
     ]
    },
    {
     "name": "stdout",
     "output_type": "stream",
     "text": [
      "WARNING:tensorflow:Entity <function Function._initialize_uninitialized_variables.<locals>.initialize_variables at 0x7f59a4dace18> could not be transformed and will be executed as-is. Please report this to the AutoGraph team. When filing the bug, set the verbosity to 10 (on Linux, `export AUTOGRAPH_VERBOSITY=10`) and attach the full output. Cause: module 'gast' has no attribute 'Num'\n",
      "WARNING: Entity <function Function._initialize_uninitialized_variables.<locals>.initialize_variables at 0x7f59a4dace18> could not be transformed and will be executed as-is. Please report this to the AutoGraph team. When filing the bug, set the verbosity to 10 (on Linux, `export AUTOGRAPH_VERBOSITY=10`) and attach the full output. Cause: module 'gast' has no attribute 'Num'\n",
      "137/137 - 1s - loss: 0.3549 - accuracy: 0.8394\n",
      "Epoch 2/10\n",
      "137/137 - 0s - loss: 0.0581 - accuracy: 0.9854\n",
      "Epoch 3/10\n",
      "137/137 - 0s - loss: 0.0215 - accuracy: 1.0000\n",
      "Epoch 4/10\n",
      "137/137 - 0s - loss: 0.0122 - accuracy: 1.0000\n",
      "Epoch 5/10\n",
      "137/137 - 0s - loss: 0.0078 - accuracy: 1.0000\n",
      "Epoch 6/10\n",
      "137/137 - 0s - loss: 0.0052 - accuracy: 1.0000\n",
      "Epoch 7/10\n",
      "137/137 - 0s - loss: 0.0048 - accuracy: 1.0000\n",
      "Epoch 8/10\n",
      "137/137 - 0s - loss: 0.0037 - accuracy: 1.0000\n",
      "Epoch 9/10\n",
      "137/137 - 0s - loss: 0.0029 - accuracy: 1.0000\n",
      "Epoch 10/10\n",
      "137/137 - 0s - loss: 9.6285e-04 - accuracy: 1.0000\n",
      "16/1 - 0s - loss: 2.0125e-04 - accuracy: 1.0000\n",
      "[CV] ................................................. , total=   1.7s\n",
      "[CV]  ................................................................\n",
      "Train on 137 samples\n",
      "Epoch 1/10\n",
      "WARNING:tensorflow:Entity <function Function._initialize_uninitialized_variables.<locals>.initialize_variables at 0x7f5988e01ae8> could not be transformed and will be executed as-is. Please report this to the AutoGraph team. When filing the bug, set the verbosity to 10 (on Linux, `export AUTOGRAPH_VERBOSITY=10`) and attach the full output. Cause: module 'gast' has no attribute 'Num'\n",
      "WARNING: Entity <function Function._initialize_uninitialized_variables.<locals>.initialize_variables at 0x7f5988e01ae8> could not be transformed and will be executed as-is. Please report this to the AutoGraph team. When filing the bug, set the verbosity to 10 (on Linux, `export AUTOGRAPH_VERBOSITY=10`) and attach the full output. Cause: module 'gast' has no attribute 'Num'\n",
      "137/137 - 0s - loss: 0.3891 - accuracy: 0.8394\n",
      "Epoch 2/10\n",
      "137/137 - 0s - loss: 0.0684 - accuracy: 0.9854\n",
      "Epoch 3/10\n",
      "137/137 - 0s - loss: 0.0364 - accuracy: 0.9854\n",
      "Epoch 4/10\n",
      "137/137 - 0s - loss: 0.0145 - accuracy: 1.0000\n",
      "Epoch 5/10\n",
      "137/137 - 0s - loss: 0.0122 - accuracy: 1.0000\n",
      "Epoch 6/10\n",
      "137/137 - 0s - loss: 0.0044 - accuracy: 1.0000\n",
      "Epoch 7/10\n",
      "137/137 - 0s - loss: 0.0032 - accuracy: 1.0000\n",
      "Epoch 8/10\n",
      "137/137 - 0s - loss: 0.0036 - accuracy: 1.0000\n",
      "Epoch 9/10\n",
      "137/137 - 0s - loss: 0.0020 - accuracy: 1.0000\n",
      "Epoch 10/10\n",
      "137/137 - 0s - loss: 0.0014 - accuracy: 1.0000\n",
      "16/1 - 0s - loss: 0.0021 - accuracy: 1.0000\n",
      "[CV] ................................................. , total=   1.6s\n",
      "[CV]  ................................................................\n",
      "Train on 138 samples\n",
      "Epoch 1/10\n",
      "WARNING:tensorflow:Entity <function Function._initialize_uninitialized_variables.<locals>.initialize_variables at 0x7f59a2b79840> could not be transformed and will be executed as-is. Please report this to the AutoGraph team. When filing the bug, set the verbosity to 10 (on Linux, `export AUTOGRAPH_VERBOSITY=10`) and attach the full output. Cause: module 'gast' has no attribute 'Num'\n",
      "WARNING: Entity <function Function._initialize_uninitialized_variables.<locals>.initialize_variables at 0x7f59a2b79840> could not be transformed and will be executed as-is. Please report this to the AutoGraph team. When filing the bug, set the verbosity to 10 (on Linux, `export AUTOGRAPH_VERBOSITY=10`) and attach the full output. Cause: module 'gast' has no attribute 'Num'\n",
      "138/138 - 1s - loss: 0.3662 - accuracy: 0.8333\n",
      "Epoch 2/10\n",
      "138/138 - 0s - loss: 0.0458 - accuracy: 0.9783\n",
      "Epoch 3/10\n",
      "138/138 - 0s - loss: 0.0225 - accuracy: 1.0000\n",
      "Epoch 4/10\n",
      "138/138 - 0s - loss: 0.0122 - accuracy: 1.0000\n",
      "Epoch 5/10\n",
      "138/138 - 0s - loss: 0.0065 - accuracy: 1.0000\n",
      "Epoch 6/10\n",
      "138/138 - 0s - loss: 0.0067 - accuracy: 1.0000\n",
      "Epoch 7/10\n",
      "138/138 - 0s - loss: 0.0339 - accuracy: 0.9855\n",
      "Epoch 8/10\n",
      "138/138 - 0s - loss: 0.0327 - accuracy: 0.9928\n",
      "Epoch 9/10\n",
      "138/138 - 0s - loss: 0.0061 - accuracy: 1.0000\n",
      "Epoch 10/10\n",
      "138/138 - 0s - loss: 0.0017 - accuracy: 1.0000\n",
      "15/1 - 0s - loss: 5.3513e-05 - accuracy: 1.0000\n",
      "[CV] ................................................. , total=   1.4s\n",
      "[CV]  ................................................................\n",
      "Train on 138 samples\n",
      "Epoch 1/10\n",
      "WARNING:tensorflow:Entity <function Function._initialize_uninitialized_variables.<locals>.initialize_variables at 0x7f59a3143378> could not be transformed and will be executed as-is. Please report this to the AutoGraph team. When filing the bug, set the verbosity to 10 (on Linux, `export AUTOGRAPH_VERBOSITY=10`) and attach the full output. Cause: module 'gast' has no attribute 'Num'\n",
      "WARNING: Entity <function Function._initialize_uninitialized_variables.<locals>.initialize_variables at 0x7f59a3143378> could not be transformed and will be executed as-is. Please report this to the AutoGraph team. When filing the bug, set the verbosity to 10 (on Linux, `export AUTOGRAPH_VERBOSITY=10`) and attach the full output. Cause: module 'gast' has no attribute 'Num'\n",
      "138/138 - 1s - loss: 0.4308 - accuracy: 0.8116\n",
      "Epoch 2/10\n",
      "138/138 - 0s - loss: 0.0571 - accuracy: 0.9783\n",
      "Epoch 3/10\n",
      "138/138 - 0s - loss: 0.0232 - accuracy: 0.9928\n",
      "Epoch 4/10\n",
      "138/138 - 0s - loss: 0.0150 - accuracy: 1.0000\n",
      "Epoch 5/10\n",
      "138/138 - 0s - loss: 0.0061 - accuracy: 1.0000\n",
      "Epoch 6/10\n",
      "138/138 - 0s - loss: 0.0056 - accuracy: 1.0000\n",
      "Epoch 7/10\n",
      "138/138 - 0s - loss: 0.0045 - accuracy: 1.0000\n",
      "Epoch 8/10\n",
      "138/138 - 0s - loss: 0.0020 - accuracy: 1.0000\n",
      "Epoch 9/10\n",
      "138/138 - 0s - loss: 0.0015 - accuracy: 1.0000\n",
      "Epoch 10/10\n",
      "138/138 - 0s - loss: 0.0011 - accuracy: 1.0000\n",
      "15/1 - 0s - loss: 0.0026 - accuracy: 1.0000\n",
      "[CV] ................................................. , total=   2.0s\n",
      "[CV]  ................................................................\n",
      "Train on 138 samples\n",
      "Epoch 1/10\n",
      "WARNING:tensorflow:Entity <function Function._initialize_uninitialized_variables.<locals>.initialize_variables at 0x7f599642f510> could not be transformed and will be executed as-is. Please report this to the AutoGraph team. When filing the bug, set the verbosity to 10 (on Linux, `export AUTOGRAPH_VERBOSITY=10`) and attach the full output. Cause: module 'gast' has no attribute 'Num'\n",
      "WARNING: Entity <function Function._initialize_uninitialized_variables.<locals>.initialize_variables at 0x7f599642f510> could not be transformed and will be executed as-is. Please report this to the AutoGraph team. When filing the bug, set the verbosity to 10 (on Linux, `export AUTOGRAPH_VERBOSITY=10`) and attach the full output. Cause: module 'gast' has no attribute 'Num'\n",
      "138/138 - 0s - loss: 0.3190 - accuracy: 0.8043\n",
      "Epoch 2/10\n",
      "138/138 - 0s - loss: 0.0423 - accuracy: 0.9855\n",
      "Epoch 3/10\n",
      "138/138 - 0s - loss: 0.0421 - accuracy: 0.9783\n",
      "Epoch 4/10\n",
      "138/138 - 0s - loss: 0.0352 - accuracy: 0.9855\n",
      "Epoch 5/10\n",
      "138/138 - 0s - loss: 0.0171 - accuracy: 1.0000\n",
      "Epoch 6/10\n",
      "138/138 - 0s - loss: 0.0124 - accuracy: 0.9928\n",
      "Epoch 7/10\n",
      "138/138 - 0s - loss: 0.0021 - accuracy: 1.0000\n",
      "Epoch 8/10\n",
      "138/138 - 0s - loss: 0.0015 - accuracy: 1.0000\n",
      "Epoch 9/10\n",
      "138/138 - 0s - loss: 5.5026e-04 - accuracy: 1.0000\n",
      "Epoch 10/10\n",
      "138/138 - 0s - loss: 6.5114e-04 - accuracy: 1.0000\n",
      "15/1 - 0s - loss: 9.5205e-05 - accuracy: 1.0000\n",
      "[CV] ................................................. , total=   1.4s\n",
      "[CV]  ................................................................\n",
      "Train on 138 samples\n",
      "Epoch 1/10\n",
      "WARNING:tensorflow:Entity <function Function._initialize_uninitialized_variables.<locals>.initialize_variables at 0x7f599a864bf8> could not be transformed and will be executed as-is. Please report this to the AutoGraph team. When filing the bug, set the verbosity to 10 (on Linux, `export AUTOGRAPH_VERBOSITY=10`) and attach the full output. Cause: module 'gast' has no attribute 'Num'\n",
      "WARNING: Entity <function Function._initialize_uninitialized_variables.<locals>.initialize_variables at 0x7f599a864bf8> could not be transformed and will be executed as-is. Please report this to the AutoGraph team. When filing the bug, set the verbosity to 10 (on Linux, `export AUTOGRAPH_VERBOSITY=10`) and attach the full output. Cause: module 'gast' has no attribute 'Num'\n"
     ]
    },
    {
     "name": "stdout",
     "output_type": "stream",
     "text": [
      "138/138 - 1s - loss: 0.2697 - accuracy: 0.8841\n",
      "Epoch 2/10\n",
      "138/138 - 0s - loss: 0.0453 - accuracy: 0.9855\n",
      "Epoch 3/10\n",
      "138/138 - 0s - loss: 0.0413 - accuracy: 0.9855\n",
      "Epoch 4/10\n",
      "138/138 - 0s - loss: 0.0540 - accuracy: 0.9855\n",
      "Epoch 5/10\n",
      "138/138 - 0s - loss: 0.0530 - accuracy: 0.9783\n",
      "Epoch 6/10\n",
      "138/138 - 0s - loss: 0.0067 - accuracy: 1.0000\n",
      "Epoch 7/10\n",
      "138/138 - 0s - loss: 0.0019 - accuracy: 1.0000\n",
      "Epoch 8/10\n",
      "138/138 - 0s - loss: 9.1159e-04 - accuracy: 1.0000\n",
      "Epoch 9/10\n",
      "138/138 - 0s - loss: 5.0911e-04 - accuracy: 1.0000\n",
      "Epoch 10/10\n",
      "138/138 - 0s - loss: 2.8588e-04 - accuracy: 1.0000\n",
      "15/1 - 0s - loss: 2.1921e-04 - accuracy: 1.0000\n",
      "[CV] ................................................. , total=   2.4s\n",
      "[CV]  ................................................................\n",
      "Train on 138 samples\n",
      "Epoch 1/10\n",
      "WARNING:tensorflow:Entity <function Function._initialize_uninitialized_variables.<locals>.initialize_variables at 0x7f599601c9d8> could not be transformed and will be executed as-is. Please report this to the AutoGraph team. When filing the bug, set the verbosity to 10 (on Linux, `export AUTOGRAPH_VERBOSITY=10`) and attach the full output. Cause: module 'gast' has no attribute 'Num'\n",
      "WARNING: Entity <function Function._initialize_uninitialized_variables.<locals>.initialize_variables at 0x7f599601c9d8> could not be transformed and will be executed as-is. Please report this to the AutoGraph team. When filing the bug, set the verbosity to 10 (on Linux, `export AUTOGRAPH_VERBOSITY=10`) and attach the full output. Cause: module 'gast' has no attribute 'Num'\n",
      "138/138 - 1s - loss: 0.3986 - accuracy: 0.7609\n",
      "Epoch 2/10\n",
      "138/138 - 0s - loss: 0.0383 - accuracy: 0.9855\n",
      "Epoch 3/10\n",
      "138/138 - 0s - loss: 0.0299 - accuracy: 0.9928\n",
      "Epoch 4/10\n",
      "138/138 - 0s - loss: 0.0211 - accuracy: 0.9928\n",
      "Epoch 5/10\n",
      "138/138 - 0s - loss: 0.0094 - accuracy: 1.0000\n",
      "Epoch 6/10\n",
      "138/138 - 0s - loss: 0.0140 - accuracy: 0.9928\n",
      "Epoch 7/10\n",
      "138/138 - 0s - loss: 0.0060 - accuracy: 1.0000\n",
      "Epoch 8/10\n",
      "138/138 - 0s - loss: 0.0024 - accuracy: 1.0000\n",
      "Epoch 9/10\n",
      "138/138 - 0s - loss: 0.0012 - accuracy: 1.0000\n",
      "Epoch 10/10\n",
      "138/138 - 0s - loss: 8.3372e-04 - accuracy: 1.0000\n",
      "15/1 - 0s - loss: 0.1454 - accuracy: 0.9333\n",
      "[CV] ................................................. , total=   1.7s\n",
      "[CV]  ................................................................\n",
      "Train on 138 samples\n",
      "Epoch 1/10\n",
      "WARNING:tensorflow:Entity <function Function._initialize_uninitialized_variables.<locals>.initialize_variables at 0x7f598db647b8> could not be transformed and will be executed as-is. Please report this to the AutoGraph team. When filing the bug, set the verbosity to 10 (on Linux, `export AUTOGRAPH_VERBOSITY=10`) and attach the full output. Cause: module 'gast' has no attribute 'Num'\n",
      "WARNING: Entity <function Function._initialize_uninitialized_variables.<locals>.initialize_variables at 0x7f598db647b8> could not be transformed and will be executed as-is. Please report this to the AutoGraph team. When filing the bug, set the verbosity to 10 (on Linux, `export AUTOGRAPH_VERBOSITY=10`) and attach the full output. Cause: module 'gast' has no attribute 'Num'\n",
      "138/138 - 1s - loss: 0.3982 - accuracy: 0.7899\n",
      "Epoch 2/10\n",
      "138/138 - 0s - loss: 0.0582 - accuracy: 0.9783\n",
      "Epoch 3/10\n",
      "138/138 - 0s - loss: 0.0344 - accuracy: 0.9928\n",
      "Epoch 4/10\n",
      "138/138 - 0s - loss: 0.0149 - accuracy: 1.0000\n",
      "Epoch 5/10\n",
      "138/138 - 0s - loss: 0.0110 - accuracy: 0.9928\n",
      "Epoch 6/10\n",
      "138/138 - 0s - loss: 0.0057 - accuracy: 1.0000\n",
      "Epoch 7/10\n",
      "138/138 - 0s - loss: 0.0034 - accuracy: 1.0000\n",
      "Epoch 8/10\n",
      "138/138 - 0s - loss: 0.0021 - accuracy: 1.0000\n",
      "Epoch 9/10\n",
      "138/138 - 0s - loss: 0.0014 - accuracy: 1.0000\n",
      "Epoch 10/10\n",
      "138/138 - 0s - loss: 0.0012 - accuracy: 1.0000\n",
      "15/1 - 0s - loss: 0.0025 - accuracy: 1.0000\n",
      "[CV] ................................................. , total=   1.5s\n",
      "[CV]  ................................................................\n",
      "Train on 138 samples\n",
      "Epoch 1/10\n",
      "WARNING:tensorflow:Entity <function Function._initialize_uninitialized_variables.<locals>.initialize_variables at 0x7f598ed7abf8> could not be transformed and will be executed as-is. Please report this to the AutoGraph team. When filing the bug, set the verbosity to 10 (on Linux, `export AUTOGRAPH_VERBOSITY=10`) and attach the full output. Cause: module 'gast' has no attribute 'Num'\n",
      "WARNING: Entity <function Function._initialize_uninitialized_variables.<locals>.initialize_variables at 0x7f598ed7abf8> could not be transformed and will be executed as-is. Please report this to the AutoGraph team. When filing the bug, set the verbosity to 10 (on Linux, `export AUTOGRAPH_VERBOSITY=10`) and attach the full output. Cause: module 'gast' has no attribute 'Num'\n",
      "138/138 - 0s - loss: 0.3466 - accuracy: 0.8333\n",
      "Epoch 2/10\n",
      "138/138 - 0s - loss: 0.0315 - accuracy: 0.9928\n",
      "Epoch 3/10\n",
      "138/138 - 0s - loss: 0.0261 - accuracy: 0.9855\n",
      "Epoch 4/10\n",
      "138/138 - 0s - loss: 0.0115 - accuracy: 0.9928\n",
      "Epoch 5/10\n",
      "138/138 - 0s - loss: 0.0080 - accuracy: 1.0000\n",
      "Epoch 6/10\n",
      "138/138 - 0s - loss: 0.0026 - accuracy: 1.0000\n",
      "Epoch 7/10\n",
      "138/138 - 0s - loss: 0.0016 - accuracy: 1.0000\n",
      "Epoch 8/10\n",
      "138/138 - 0s - loss: 0.0011 - accuracy: 1.0000\n",
      "Epoch 9/10\n",
      "138/138 - 0s - loss: 9.2948e-04 - accuracy: 1.0000\n",
      "Epoch 10/10\n",
      "138/138 - 0s - loss: 6.8875e-04 - accuracy: 1.0000\n",
      "15/1 - 0s - loss: 2.2831e-05 - accuracy: 1.0000\n",
      "[CV] ................................................. , total=   1.4s\n"
     ]
    },
    {
     "name": "stderr",
     "output_type": "stream",
     "text": [
      "[Parallel(n_jobs=1)]: Done  10 out of  10 | elapsed:   16.9s finished\n"
     ]
    },
    {
     "data": {
      "text/plain": [
       "array([0.9375    , 1.        , 1.        , 1.        , 1.        ,\n",
       "       1.        , 1.        , 0.93333334, 1.        , 1.        ])"
      ]
     },
     "execution_count": 155,
     "metadata": {},
     "output_type": "execute_result"
    }
   ],
   "source": [
    "# Using k-fold cross validation(cv) to test, then adjust Model\n",
    "FOLDS = 10 # Number of folds for k-fold cv\n",
    "cross_val_score(NeuralNetwork, train_validation_inputs, train_validation_targets, cv=FOLDS, verbose=2)"
   ]
  },
  {
   "cell_type": "code",
   "execution_count": 156,
   "metadata": {},
   "outputs": [
    {
     "name": "stdout",
     "output_type": "stream",
     "text": [
      "Train on 153 samples\n",
      "Epoch 1/10\n",
      "WARNING:tensorflow:Entity <function Function._initialize_uninitialized_variables.<locals>.initialize_variables at 0x7f5989b7e8c8> could not be transformed and will be executed as-is. Please report this to the AutoGraph team. When filing the bug, set the verbosity to 10 (on Linux, `export AUTOGRAPH_VERBOSITY=10`) and attach the full output. Cause: module 'gast' has no attribute 'Num'\n",
      "WARNING: Entity <function Function._initialize_uninitialized_variables.<locals>.initialize_variables at 0x7f5989b7e8c8> could not be transformed and will be executed as-is. Please report this to the AutoGraph team. When filing the bug, set the verbosity to 10 (on Linux, `export AUTOGRAPH_VERBOSITY=10`) and attach the full output. Cause: module 'gast' has no attribute 'Num'\n",
      "153/153 - 0s - loss: 0.3032 - accuracy: 0.8301\n",
      "Epoch 2/10\n",
      "153/153 - 0s - loss: 0.0354 - accuracy: 0.9804\n",
      "Epoch 3/10\n",
      "153/153 - 0s - loss: 0.0145 - accuracy: 1.0000\n",
      "Epoch 4/10\n",
      "153/153 - 0s - loss: 0.0138 - accuracy: 0.9935\n",
      "Epoch 5/10\n",
      "153/153 - 0s - loss: 0.0074 - accuracy: 1.0000\n",
      "Epoch 6/10\n",
      "153/153 - 0s - loss: 0.0028 - accuracy: 1.0000\n",
      "Epoch 7/10\n",
      "153/153 - 0s - loss: 0.0014 - accuracy: 1.0000\n",
      "Epoch 8/10\n",
      "153/153 - 0s - loss: 7.9805e-04 - accuracy: 1.0000\n",
      "Epoch 9/10\n",
      "153/153 - 0s - loss: 6.6072e-04 - accuracy: 1.0000\n",
      "Epoch 10/10\n",
      "153/153 - 0s - loss: 5.5158e-04 - accuracy: 1.0000\n"
     ]
    },
    {
     "data": {
      "text/plain": [
       "<tensorflow.python.keras.callbacks.History at 0x7f59920f7080>"
      ]
     },
     "execution_count": 156,
     "metadata": {},
     "output_type": "execute_result"
    }
   ],
   "source": [
    "NeuralNetwork.fit(train_validation_inputs,train_validation_targets) # Fit model to our training/validation data"
   ]
  },
  {
   "cell_type": "code",
   "execution_count": 157,
   "metadata": {},
   "outputs": [
    {
     "name": "stdout",
     "output_type": "stream",
     "text": [
      "17/1 - 0s - loss: 3.4168e-04 - accuracy: 1.0000\n"
     ]
    },
    {
     "data": {
      "text/plain": [
       "1.0"
      ]
     },
     "execution_count": 157,
     "metadata": {},
     "output_type": "execute_result"
    }
   ],
   "source": [
    "# Testing accuracy of model\n",
    "NeuralNetwork.score(test_inputs, test_targets)"
   ]
  }
 ],
 "metadata": {
  "kernelspec": {
   "display_name": "Python 3",
   "language": "python",
   "name": "python3"
  },
  "language_info": {
   "codemirror_mode": {
    "name": "ipython",
    "version": 3
   },
   "file_extension": ".py",
   "mimetype": "text/x-python",
   "name": "python",
   "nbconvert_exporter": "python",
   "pygments_lexer": "ipython3",
   "version": "3.5.2"
  }
 },
 "nbformat": 4,
 "nbformat_minor": 2
}
