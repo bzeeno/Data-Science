{
 "cells": [
  {
   "cell_type": "code",
   "execution_count": 1,
   "metadata": {},
   "outputs": [
    {
     "ename": "ModuleNotFoundError",
     "evalue": "No module named 'sklearn'",
     "output_type": "error",
     "traceback": [
      "\u001b[0;31m---------------------------------------------------------------------------\u001b[0m",
      "\u001b[0;31mModuleNotFoundError\u001b[0m                       Traceback (most recent call last)",
      "\u001b[0;32m<ipython-input-1-f924c183f53b>\u001b[0m in \u001b[0;36m<module>\u001b[0;34m()\u001b[0m\n\u001b[1;32m      1\u001b[0m \u001b[0;32mimport\u001b[0m \u001b[0mnumpy\u001b[0m \u001b[0;32mas\u001b[0m \u001b[0mnp\u001b[0m\u001b[0;34m\u001b[0m\u001b[0;34m\u001b[0m\u001b[0m\n\u001b[0;32m----> 2\u001b[0;31m \u001b[0;32mfrom\u001b[0m \u001b[0msklearn\u001b[0m\u001b[0;34m.\u001b[0m\u001b[0mmodel_selection\u001b[0m \u001b[0;32mimport\u001b[0m \u001b[0mKFold\u001b[0m\u001b[0;34m\u001b[0m\u001b[0;34m\u001b[0m\u001b[0m\n\u001b[0m\u001b[1;32m      3\u001b[0m \u001b[0;32mimport\u001b[0m \u001b[0mtensorflow\u001b[0m \u001b[0;32mas\u001b[0m \u001b[0mtf\u001b[0m\u001b[0;34m\u001b[0m\u001b[0;34m\u001b[0m\u001b[0m\n\u001b[1;32m      4\u001b[0m \u001b[0;32mfrom\u001b[0m \u001b[0msklearn\u001b[0m\u001b[0;34m.\u001b[0m\u001b[0mmodel_selection\u001b[0m \u001b[0;32mimport\u001b[0m \u001b[0mcross_val_score\u001b[0m\u001b[0;34m\u001b[0m\u001b[0;34m\u001b[0m\u001b[0m\n",
      "\u001b[0;31mModuleNotFoundError\u001b[0m: No module named 'sklearn'"
     ]
    }
   ],
   "source": [
    "import numpy as np\n",
    "from sklearn.model_selection import KFold\n",
    "import tensorflow as tf\n",
    "from sklearn.model_selection import cross_val_score"
   ]
  },
  {
   "cell_type": "markdown",
   "metadata": {},
   "source": [
    "# Read-In Data"
   ]
  },
  {
   "cell_type": "code",
   "execution_count": null,
   "metadata": {},
   "outputs": [],
   "source": [
    "data_path = \"data/\"\n",
    "npz = np.load(data_path+\"train_validation_data.npz\")\n",
    "train_validation_inputs = npz[\"inputs\"].astype(np.float)\n",
    "train_validation_targets = npz[\"targets\"].astype(np.int)\n",
    "\n",
    "npz = np.load(data_path+\"test_data.npz\")\n",
    "test_inputs = npz[\"inputs\"].astype(np.float)\n",
    "test_targets = npz[\"targets\"].astype(np.int)"
   ]
  },
  {
   "cell_type": "code",
   "execution_count": null,
   "metadata": {},
   "outputs": [],
   "source": [
    "print(\"Shape of train/validation inputs:\",np.shape(train_validation_inputs))\n",
    "print(\"Shape of train/validation targets:\",np.shape(train_validation_targets))\n",
    "\n",
    "print(\"\")\n",
    "\n",
    "print(\"Shape of test inputs:\",np.shape(test_inputs))\n",
    "print(\"Shape of test targets:\",np.shape(test_targets))"
   ]
  },
  {
   "cell_type": "code",
   "execution_count": null,
   "metadata": {},
   "outputs": [],
   "source": [
    "np.shape(train_validation_targets)"
   ]
  },
  {
   "cell_type": "markdown",
   "metadata": {},
   "source": [
    "# Create Neural Network"
   ]
  },
  {
   "cell_type": "code",
   "execution_count": null,
   "metadata": {},
   "outputs": [],
   "source": [
    "INPUT_SIZE = 54\n",
    "OUTPUT_SIZE = 2\n",
    "HIDDEN_LAYER_SIZE = 250"
   ]
  },
  {
   "cell_type": "code",
   "execution_count": null,
   "metadata": {},
   "outputs": [],
   "source": [
    "def create_neural_network():\n",
    "    network = tf.keras.models.Sequential() # Begin Neural Network\n",
    "    network.add(tf.keras.layers.Dense(HIDDEN_LAYER_SIZE, activation=\"sigmoid\"))\n",
    "    network.add(tf.keras.layers.Dense(HIDDEN_LAYER_SIZE, activation=\"tanh\"))\n",
    "    network.add(tf.keras.layers.Dense(HIDDEN_LAYER_SIZE, activation=\"relu\"))\n",
    "    network.add(tf.keras.layers.Dense(OUTPUT_SIZE, activation=\"softmax\"))\n",
    "    network.compile(optimizer=\"adam\", loss=\"sparse_categorical_crossentropy\", metrics=[\"accuracy\"])\n",
    "    return network"
   ]
  },
  {
   "cell_type": "code",
   "execution_count": null,
   "metadata": {},
   "outputs": [],
   "source": [
    "MAX_EPOCHS = 10\n",
    "BATCH_SIZE = 10\n",
    "\n",
    "# Allow for validation accuracy to be lower than previous 2 times before stopping\n",
    "early_stopping = tf.keras.callbacks.EarlyStopping(patience=2) \n",
    "\n",
    "NeuralNetwork = tf.keras.wrappers.scikit_learn.KerasClassifier(build_fn=create_neural_network, \n",
    "                                                               epochs=MAX_EPOCHS,\n",
    "                                                               batch_size=BATCH_SIZE,\n",
    "                                                               verbose=2)"
   ]
  },
  {
   "cell_type": "code",
   "execution_count": null,
   "metadata": {
    "scrolled": true
   },
   "outputs": [],
   "source": [
    "# Using k-fold cross validation(cv) to test, then adjust Model\n",
    "FOLDS = 10 # Number of folds for k-fold cv\n",
    "cross_val_score(NeuralNetwork, train_validation_inputs, train_validation_targets, cv=FOLDS, verbose=2)"
   ]
  },
  {
   "cell_type": "code",
   "execution_count": null,
   "metadata": {},
   "outputs": [],
   "source": [
    "NeuralNetwork.fit(train_validation_inputs,train_validation_targets) # Fit model to our training/validation data"
   ]
  },
  {
   "cell_type": "code",
   "execution_count": null,
   "metadata": {},
   "outputs": [],
   "source": [
    "# Testing accuracy of model\n",
    "NeuralNetwork.score(test_inputs, test_targets)"
   ]
  }
 ],
 "metadata": {
  "kernelspec": {
   "display_name": "Python 3",
   "language": "python",
   "name": "python3"
  },
  "language_info": {
   "codemirror_mode": {
    "name": "ipython",
    "version": 3
   },
   "file_extension": ".py",
   "mimetype": "text/x-python",
   "name": "python",
   "nbconvert_exporter": "python",
   "pygments_lexer": "ipython3",
   "version": "3.7.5"
  }
 },
 "nbformat": 4,
 "nbformat_minor": 2
}
